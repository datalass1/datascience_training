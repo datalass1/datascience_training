{
 "cells": [
  {
   "cell_type": "markdown",
   "metadata": {},
   "source": [
    "# Rachel's Pythonista Cheat Sheet\n",
    "based on Solo Learn topics<br>\n",
    "an interesting youtube to prep python skills for the future: https://www.youtube.com/watch?v=DEwgZNC-KyE\n",
    "\n",
    "### 1. Basic Operations\n",
    "- what is Python\n",
    "- your first program: 'hello world'\n",
    "- simple operations\n",
    "- floats\n",
    "- other numerical operations\n",
    "- strings\n",
    "- simple input and output\n",
    "- string operations\n",
    "- type conversion\n",
    "- variables\n",
    "- in-place operators: to write code more conscisely '+='\n",
    "- using an editor"
   ]
  },
  {
   "cell_type": "markdown",
   "metadata": {},
   "source": [
    "#### What is Python?\n",
    "Python is a high-level programming language"
   ]
  },
  {
   "cell_type": "markdown",
   "metadata": {},
   "source": [
    "### 2. Control Structures\n",
    "- booleans & comparisons\n",
    "- if statements\n",
    "- else statements\n",
    "- boolean logic 'and' 'or' 'not'\n",
    "- operator precedence '==' has precedence over 'or'\n",
    "- while loops\n",
    "- lists\n",
    "- list operations\n",
    "- list functions\n",
    "- range\n",
    "- for loops\n",
    "- a simple calculator   "
   ]
  },
  {
   "cell_type": "markdown",
   "metadata": {},
   "source": [
    "Operators Table\n",
    "\n",
    "|Operator\t|Description |\n",
    "|--------|--------|\n",
    "|if – else\t|Conditional expression|\n",
    "|or\t|Boolean OR|\n",
    "|and\t|Boolean AND|\n",
    "|not x\t|Boolean NOT|\n",
    "|in, not in, is, is not, <, <=, >, >=, !=, ==\t|Comparisons, including membership tests and identity tests|\n",
    "||\t|Bitwise OR|\n",
    "|^\t|Bitwise XOR|\n",
    "|&\t|Bitwise AND|\n",
    "|<<, >>\t|Shifts|\n",
    "|+, -\t|Addition and subtraction |\n",
    "|* @, /, '//', '%' | Multiplication, matrix multiplication, division, floor division, remainder| \n",
    "|+x, -x, ~x\t|Positive, negative, bitwise NOT|\n",
    "|**\t|Exponentiation|\n",
    "|await x\t|Await expression|\n",
    "|x[index], x[index:index], x(arguments...), x.attribute\t|Subscription, slicing, call, attribute reference|\n",
    "|(expressions...), [expressions...], {key: value...}, {expressions...}| Binding or tuple display, list display, dictionary display, set display|\n",
    "|lambda\t|Lambda expression|"
   ]
  },
  {
   "cell_type": "markdown",
   "metadata": {},
   "source": [
    "**break statement**: the break statement causes the loop to finish immediately."
   ]
  },
  {
   "cell_type": "markdown",
   "metadata": {},
   "source": [
    "**continue statement**: continue jumps back to the top of the loop, rather than stopping it."
   ]
  },
  {
   "cell_type": "markdown",
   "metadata": {},
   "source": [
    "python's built-in list/array methods\n",
    "\n",
    "|Method\t|Description|\n",
    "|--------|-----------|\n",
    "|append()\t|Adds an element at the end of the list|\n",
    "|clear()\t|Removes all the elements from the list|\n",
    "|copy()\t|Returns a copy of the list|\n",
    "|count()\t|Returns the number of elements with the specified value|\n",
    "|extend()\t|Add the elements of a list (or any iterable), to the end of the current list|\n",
    "|index()\t|Returns the index of the first element with the specified value|\n",
    "|insert()\t|Adds an element at the specified position|\n",
    "|pop()\t|Removes the element at the specified position|\n",
    "|remove()\t|Removes the first item with the specified value|\n",
    "|reverse()\t|Reverses the order of the list|\n",
    "|sort()\t|Sorts the list|"
   ]
  },
  {
   "cell_type": "markdown",
   "metadata": {},
   "source": [
    "### 3. Functions and Modules\n",
    "- code reuse 'Don't Repeat Yourself, or DRY, principle.'<br>\n",
    "Any statement that consists of a word followed by information in parentheses is a function call.\n",
    "- function\n",
    "- function arguments\n",
    "- returning from functions\n",
    "- comments and docstrings\n",
    "- functions as objects <br>\n",
    "functions can be assigned and reassigned to variables, and later referenced by those names.\n",
    "- modules: A module is a file containing Python definitions and statements. The file name is the module name with the suffix .py appended.\n",
    "- the standard library and pip <br> \n",
    "Some of the standard library's useful modules include string, re, datetime, math, random, os, multiprocessing, subprocess, socket, email, json, doctest, unittest, pdb, argparse and sys.<br>\n",
    "Many third-party Python modules are stored on the Python Package Index (PyPI). "
   ]
  },
  {
   "cell_type": "markdown",
   "metadata": {},
   "source": [
    "### 4. Exceptions and Files\n",
    "- exceptions\n",
    "- exception handling\n",
    "- finally\n",
    "- raising exceptions\n",
    "- assertions\n",
    "- opening files\n",
    "- reading files\n",
    "- writing files\n",
    "- working with files"
   ]
  },
  {
   "cell_type": "markdown",
   "metadata": {},
   "source": [
    "**common exceptions:**<br>\n",
    "ImportError: an import fails;<br>\n",
    "IndexError: a list is indexed with an out-of-range number;<br>\n",
    "NameError: an unknown variable is used;<br>\n",
    "SyntaxError: the code can't be parsed properly; <br>\n",
    "TypeError: a function is called on a value of an inappropriate type;<br>\n",
    "ValueError: a function is called on a value of the correct type, but with an inappropriate value."
   ]
  },
  {
   "cell_type": "markdown",
   "metadata": {},
   "source": [
    "**exception handling**<br>\n",
    "To handle exceptions, and to call code when an exception occurs, you can use a try/except statement.<br>\n",
    "The try block contains code that might throw an exception. If that exception occurs, the code in the try block stops being executed, and the code in the except block is run. If no error occurs, the code in the except block doesn't run."
   ]
  },
  {
   "cell_type": "markdown",
   "metadata": {},
   "source": [
    "**finally**<br>\n",
    "To ensure some code runs no matter what errors occur"
   ]
  },
  {
   "cell_type": "markdown",
   "metadata": {},
   "source": [
    "**raising exceptions**"
   ]
  },
  {
   "cell_type": "code",
   "execution_count": 2,
   "metadata": {},
   "outputs": [
    {
     "name": "stdout",
     "output_type": "stream",
     "text": [
      "enter a number: 2\n",
      "4\n"
     ]
    }
   ],
   "source": [
    "num = int(input('enter a number: '))\n",
    "if num < 0:\n",
    "    raise ValueError('negative number!')\n",
    "print(num ** num)"
   ]
  },
  {
   "cell_type": "markdown",
   "metadata": {},
   "source": [
    "**assertions**<br>\n",
    "An assertion is a sanity-check that you can turn on or turn off when you have finished testing the program."
   ]
  },
  {
   "cell_type": "code",
   "execution_count": 3,
   "metadata": {},
   "outputs": [
    {
     "name": "stdout",
     "output_type": "stream",
     "text": [
      "1\n"
     ]
    }
   ],
   "source": [
    "def my_func(x):\n",
    "    assert x > 0, \"Error! Value less than 0\"\n",
    "    print(x)\n",
    "    \n",
    "my_func(1)"
   ]
  },
  {
   "cell_type": "markdown",
   "metadata": {},
   "source": [
    "**working with files**"
   ]
  },
  {
   "cell_type": "code",
   "execution_count": 4,
   "metadata": {},
   "outputs": [
    {
     "name": "stdout",
     "output_type": "stream",
     "text": [
      "This is a Rachel Keay text file\n",
      "date: Sunday 7th October\n",
      "True\n"
     ]
    }
   ],
   "source": [
    "try:\n",
    "    f = open('newfile.txt', 'w')\n",
    "    f.write('This is a Rachel Keay text file')\n",
    "    f = open('newfile.txt', 'a') #'a' to append at the end\n",
    "    f.write('\\ndate: Sunday 7th October')\n",
    "    f = open('newfile.txt', 'r')\n",
    "    print(f.read())\n",
    "finally:\n",
    "    f.close()\n",
    "#check that the file is closed\n",
    "print(f.closed)"
   ]
  },
  {
   "cell_type": "markdown",
   "metadata": {},
   "source": [
    "### 5. More Types\n",
    "- None\n",
    "- dictionaries\n",
    "- dictionary functions\n",
    "- tuples\n",
    "- list slices\n",
    "- list comprehensions <br>\n",
    "syntax is [expression **for** item **in** list **if** conditional]<br>\n",
    "- string formatting\n",
    "- useful functions\n",
    "- text analyser"
   ]
  },
  {
   "cell_type": "markdown",
   "metadata": {},
   "source": [
    "**list comprehensions**"
   ]
  },
  {
   "cell_type": "code",
   "execution_count": 5,
   "metadata": {},
   "outputs": [
    {
     "name": "stdout",
     "output_type": "stream",
     "text": [
      "[0, 4, 16, 36, 64]\n"
     ]
    }
   ],
   "source": [
    "evens=[i**2 for i in range(10) if i**2 % 2 == 0]\n",
    "print(evens)"
   ]
  },
  {
   "cell_type": "code",
   "execution_count": 6,
   "metadata": {},
   "outputs": [],
   "source": [
    "#dir(str) #to find all string formatting built-in functions"
   ]
  },
  {
   "cell_type": "markdown",
   "metadata": {},
   "source": [
    "### 6. Functional Programming\n",
    "- functional programming\n",
    "- lambdas\n",
    "- map and filter\n",
    "- generator\n",
    "- decorators\n",
    "- recursion\n",
    "- sets\n",
    "- itertools"
   ]
  },
  {
   "cell_type": "markdown",
   "metadata": {},
   "source": [
    "**functional programming**<br>\n",
    "Higher-order functions take other functions as arguments, or return them as results."
   ]
  },
  {
   "cell_type": "code",
   "execution_count": 7,
   "metadata": {},
   "outputs": [
    {
     "name": "stdout",
     "output_type": "stream",
     "text": [
      "81\n"
     ]
    }
   ],
   "source": [
    "def test(func, arg):\n",
    "    return func(func(arg))\n",
    "\n",
    "def mult(x):\n",
    "    return x * x\n",
    "\n",
    "print(test(mult, 3))"
   ]
  },
  {
   "cell_type": "markdown",
   "metadata": {},
   "source": [
    "Pure Functions\n",
    "\n",
    "Using pure functions has both advantages and disadvantages. \n",
    "Pure functions are:\n",
    "- easier to reason about and test.\n",
    "- more efficient. Once the function has been evaluated for an input, the result can be stored and referred to the next time the function of that input is needed, reducing the number of times the function is called. This is called memoization.\n",
    "- easier to run in parallel."
   ]
  },
  {
   "cell_type": "markdown",
   "metadata": {},
   "source": [
    "**lambdas**<br>\n",
    "Functions created this way are known as *anonymous*.<br>\n",
    "Lambda functions get their name from lambda calculus, which is a model of computation invented by Alonzo Church."
   ]
  },
  {
   "cell_type": "code",
   "execution_count": 8,
   "metadata": {},
   "outputs": [
    {
     "name": "stdout",
     "output_type": "stream",
     "text": [
      "18\n",
      "18\n"
     ]
    }
   ],
   "source": [
    "#named function\n",
    "def polynomial(x):\n",
    "    return x**2 + 5*x + 4\n",
    "print(polynomial(2))\n",
    "\n",
    "#lambda\n",
    "print((lambda x: x**2 + 5*x + 4) (2))"
   ]
  },
  {
   "cell_type": "markdown",
   "metadata": {},
   "source": [
    "**map and filter**<br>\n",
    "The function *filter* filters an iterable by removing items that don't match a predicate (a function that returns a Boolean). "
   ]
  },
  {
   "cell_type": "code",
   "execution_count": 9,
   "metadata": {},
   "outputs": [
    {
     "name": "stdout",
     "output_type": "stream",
     "text": [
      "[22, 44]\n"
     ]
    }
   ],
   "source": [
    "nums = [11, 22, 33, 44, 55]\n",
    "#filter\n",
    "res = list(filter(lambda x: x%2==0, nums))\n",
    "print(res)"
   ]
  },
  {
   "cell_type": "code",
   "execution_count": 10,
   "metadata": {},
   "outputs": [
    {
     "data": {
      "text/plain": [
       "[False, True, False, True, False]"
      ]
     },
     "execution_count": 10,
     "metadata": {},
     "output_type": "execute_result"
    }
   ],
   "source": [
    "#map\n",
    "result=list(map(lambda x: x%2==0,nums))\n",
    "result"
   ]
  },
  {
   "cell_type": "markdown",
   "metadata": {},
   "source": [
    "**generators** THESE ARE REALLY COOL FOR SAVING MEMORY<br>\n",
    "They can be created using functions and the yield statement.<br>\n",
    "The yield statement is used to define a generator, replacing the return of a function to provide a result to its caller without destroying local variables."
   ]
  },
  {
   "cell_type": "code",
   "execution_count": 11,
   "metadata": {},
   "outputs": [
    {
     "name": "stdout",
     "output_type": "stream",
     "text": [
      "<generator object <genexpr> at 0x7fa29c27d780>\n",
      "1\n",
      "4\n",
      "9\n",
      "16\n",
      "25\n"
     ]
    }
   ],
   "source": [
    "my_nums = (x*x for x in [1,2,3,4,5]) \n",
    "#take out square brackets and add parenthesis to create a list comprehension generator\n",
    "\n",
    "print(my_nums)\n",
    "\n",
    "for num in my_nums:\n",
    "    print(num)\n",
    "    \n",
    "#if converting to a list you loose the performance and store all the values in memory\n",
    "\n",
    "#source: https://www.youtube.com/watch?v=bD05uGo_sVI"
   ]
  },
  {
   "cell_type": "markdown",
   "metadata": {},
   "source": [
    "To infinity with a generator: Due to the fact that they yield one item at a time, generators don't have the memory restrictions of lists. "
   ]
  },
  {
   "cell_type": "markdown",
   "metadata": {},
   "source": [
    "**decorators**<br>\n",
    "Decorators provide a way to modify functions using other functions. "
   ]
  },
  {
   "cell_type": "code",
   "execution_count": 18,
   "metadata": {},
   "outputs": [
    {
     "name": "stdout",
     "output_type": "stream",
     "text": [
      "============\n",
      "Hello world!\n",
      "============\n"
     ]
    }
   ],
   "source": [
    "def decor(func):\n",
    "    def wrap():\n",
    "        print(\"============\")\n",
    "        func()\n",
    "        print(\"============\")\n",
    "    return wrap\n",
    "\n",
    "#the reason for the nested function is because there needs to be a return statement\n",
    "\n",
    "def print_text():\n",
    "    print(\"Hello world!\")\n",
    "\n",
    "decorator = decor(print_text) #see the next cell, the @decor can be used to do the same thing\n",
    "decorator()"
   ]
  },
  {
   "cell_type": "code",
   "execution_count": 22,
   "metadata": {},
   "outputs": [
    {
     "name": "stdout",
     "output_type": "stream",
     "text": [
      "============\n",
      "============\n",
      "_pythonista_\n",
      "============\n",
      "============\n"
     ]
    }
   ],
   "source": [
    "#A single function can have multiple decorators.\n",
    "@decor\n",
    "@decor\n",
    "def print_text():\n",
    "    print('_pythonista_')\n",
    "print_text()"
   ]
  },
  {
   "cell_type": "markdown",
   "metadata": {},
   "source": [
    "**recursion**<br>\n",
    "A classic example of a function that is implemented recursively is the factorial function, which finds the product of all positive integers below a specified number. "
   ]
  },
  {
   "cell_type": "code",
   "execution_count": 25,
   "metadata": {},
   "outputs": [
    {
     "name": "stdout",
     "output_type": "stream",
     "text": [
      "120\n"
     ]
    }
   ],
   "source": [
    "def factorial(x):\n",
    "    if x == 1:\n",
    "        return 1 #this is the base case...otherwise the loop would continue into the negatives\n",
    "    else: \n",
    "        return x * factorial(x-1)\n",
    "    \n",
    "print(factorial(5)) #5*4*3*2*1"
   ]
  },
  {
   "cell_type": "markdown",
   "metadata": {},
   "source": [
    "Recursion can also be indirect. One function can call a second, which calls the first, which calls the second, and so on. \n",
    "\n",
    "Also a good example is the **Fibonacci Sequence**"
   ]
  },
  {
   "cell_type": "markdown",
   "metadata": {},
   "source": [
    "**sets**<br>\n",
    "Sets are data structures, similar to lists or dictionaries. They are created using curly braces, or the set function. <br>\n",
    "They are unordered<br>\n",
    "They cannot contain duplicate elements<br>\n",
    "It's faster to check whether an item is part of a set<br>\n",
    "Instead of using append to add to a set, use add"
   ]
  },
  {
   "cell_type": "code",
   "execution_count": 27,
   "metadata": {},
   "outputs": [
    {
     "name": "stdout",
     "output_type": "stream",
     "text": [
      "{1, 2, 3, 4, 5, 6, 7, 8, 9}\n",
      "{4, 5, 6}\n",
      "{1, 2, 3}\n",
      "{8, 9, 7}\n",
      "{1, 2, 3, 7, 8, 9}\n"
     ]
    }
   ],
   "source": [
    "first = {1, 2, 3, 4, 5, 6}\n",
    "second = {4, 5, 6, 7, 8, 9}\n",
    "\n",
    "print(first | second) #union operator \n",
    "print(first & second) #intersection operator - returns items that appear in both sets\n",
    "print(first - second) #difference - items in the first set but not the second\n",
    "print(second - first)\n",
    "print(first ^ second) #symmetric difference - gets items in either set, but not both"
   ]
  },
  {
   "cell_type": "markdown",
   "metadata": {},
   "source": [
    "This operators are very similar to Boolean operators with sets in maths.<br>\n",
    "| = OR<br>\n",
    "& = AND<br>\n",
    "^ = Exclusive OR<br>"
   ]
  },
  {
   "cell_type": "markdown",
   "metadata": {},
   "source": [
    "**Data Structures**\n",
    "\n",
    "As we have seen in the previous lessons, Python supports the following data structures: lists, dictionaries, tuples, sets.\n",
    "\n",
    "When to use a dictionary:\n",
    "- When you need a logical association between a key:value pair.\n",
    "- When you need fast lookup for your data, based on a custom key.\n",
    "- When your data is being constantly modified. Remember, dictionaries are mutable.\n",
    "\n",
    "When to use the other types:\n",
    "- Use lists if you have a collection of data that does not need random access. Try to choose lists when you need a simple, iterable collection that is modified frequently.\n",
    "- Use a set if you need uniqueness for the elements. \n",
    "- Use tuples when your data cannot change. "
   ]
  },
  {
   "cell_type": "markdown",
   "metadata": {},
   "source": [
    "**itertools** <br>\n",
    "The module itertools is a standard library that contains several functions that are useful in functional programming\n",
    "- count: counts up infinitely from a value\n",
    "- cycle: iterates through an iterable....infinitely\n",
    "- repeat: repeats an object either infinitely or a specific number of times\n",
    "- takewhile: a bit like filter but it will stop at first False\n",
    "- accumulate: returns a running total of values in an iterable\n",
    "- chain: combines several iterables into a long one\n",
    "- product: combinations \n",
    "- permutation: combinations<br>\n",
    "NB// product returns all possible combinations of two (or possibly more) inputs and permutation returns all possible combinations of all the different values in one input (list)\n"
   ]
  },
  {
   "cell_type": "markdown",
   "metadata": {},
   "source": [
    "The int argument in the permutations line makes it look for two member combos.\n",
    "\n",
    "product can be used with multiple lists, permutations only with one."
   ]
  },
  {
   "cell_type": "code",
   "execution_count": 32,
   "metadata": {},
   "outputs": [
    {
     "name": "stdout",
     "output_type": "stream",
     "text": [
      "[('A', '$', '1'), ('A', '$', '5'), ('A', '#', '1'), ('A', '#', '5'), ('A', '&', '1'), ('A', '&', '5'), ('B', '$', '1'), ('B', '$', '5'), ('B', '#', '1'), ('B', '#', '5'), ('B', '&', '1'), ('B', '&', '5'), ('9c', '$', '1'), ('9c', '$', '5'), ('9c', '#', '1'), ('9c', '#', '5'), ('9c', '&', '1'), ('9c', '&', '5')]\n",
      "[('A', 'B'), ('A', '9c'), ('B', 'A'), ('B', '9c'), ('9c', 'A'), ('9c', 'B')]\n"
     ]
    }
   ],
   "source": [
    "from itertools import product, permutations\n",
    "\n",
    "letters = (\"A\", \"B\", \"9c\")\n",
    "symbols =(\"$\",\"#\",\"&\")\n",
    "nums=(\"1\",\"5\")\n",
    "print(list(product(letters, symbols, nums)))\n",
    "print(list(permutations(letters, 2))) "
   ]
  },
  {
   "cell_type": "markdown",
   "metadata": {},
   "source": [
    "### 7. Object-Orientated Programming\n",
    "- classes\n",
    "- iheritance\n",
    "- magic methods and operator overloading\n",
    "- object lifecyc;e\n",
    "- data hiding\n",
    "- class and static methods\n",
    "- properties\n",
    "- a simple game"
   ]
  },
  {
   "cell_type": "code",
   "execution_count": null,
   "metadata": {},
   "outputs": [],
   "source": []
  }
 ],
 "metadata": {
  "kernelspec": {
   "display_name": "Python 3",
   "language": "python",
   "name": "python3"
  }
 },
 "nbformat": 4,
 "nbformat_minor": 2
}
