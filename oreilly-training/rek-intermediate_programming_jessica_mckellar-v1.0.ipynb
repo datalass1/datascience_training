{
 "cells": [
  {
   "cell_type": "markdown",
   "metadata": {},
   "source": [
    "## Intermediate Python Programming\n",
    "### Jessica McKellar"
   ]
  },
  {
   "cell_type": "markdown",
   "metadata": {},
   "source": [
    "Firstly import any libraries required for the full course"
   ]
  },
  {
   "cell_type": "code",
   "execution_count": 1,
   "metadata": {},
   "outputs": [],
   "source": [
    "import string\n",
    "import time\n",
    "import os\n",
    "from matplotlib import pyplot\n",
    "import random\n",
    "from bs4 import BeautifulSoup\n",
    "import urllib.request\n",
    "from urllib.parse import urljoin"
   ]
  },
  {
   "cell_type": "markdown",
   "metadata": {},
   "source": [
    "### Part 1: Word Play"
   ]
  },
  {
   "cell_type": "code",
   "execution_count": 2,
   "metadata": {},
   "outputs": [
    {
     "name": "stdout",
     "output_type": "stream",
     "text": [
      "CPU times: user 2 µs, sys: 0 ns, total: 2 µs\n",
      "Wall time: 5.01 µs\n"
     ]
    }
   ],
   "source": [
    "word_list = 'wordlist.txt'\n",
    "#source of word_list: https://www.ef.co.uk/english-resources/english-vocabulary/top-1000-words/\n",
    "wordlist = open(word_list).readlines()\n",
    "\n",
    "%time\n",
    "#strip out the '\\n' from wordlist, 2 examples as lamdba function or list comprehension\n",
    "wordlist = list(map(lambda s: s.lower().strip(), wordlist)) #3us\n",
    "#wordlist = [word.lower().strip() for word in wordlist] #4us"
   ]
  },
  {
   "cell_type": "markdown",
   "metadata": {},
   "source": [
    "#### Are there any letters in the word list that do not appear doubled?"
   ]
  },
  {
   "cell_type": "code",
   "execution_count": 3,
   "metadata": {},
   "outputs": [
    {
     "name": "stdout",
     "output_type": "stream",
     "text": [
      "There are no double words with this letter in the wordlist: a\n",
      "There are no double words with this letter in the wordlist: b\n",
      "There are no double words with this letter in the wordlist: h\n",
      "There are no double words with this letter in the wordlist: i\n",
      "There are no double words with this letter in the wordlist: j\n",
      "There are no double words with this letter in the wordlist: k\n",
      "There are no double words with this letter in the wordlist: q\n",
      "There are no double words with this letter in the wordlist: u\n",
      "There are no double words with this letter in the wordlist: v\n",
      "There are no double words with this letter in the wordlist: w\n",
      "There are no double words with this letter in the wordlist: x\n",
      "There are no double words with this letter in the wordlist: y\n",
      "There are no double words with this letter in the wordlist: z\n"
     ]
    }
   ],
   "source": [
    "#so lets iterate over every letter in the alphabet \n",
    "for letter in string.ascii_lowercase:\n",
    "    #lets keep track of if the letter is doubled, does a particular letter appear doubled?\n",
    "    exists = False\n",
    "    for word in wordlist:\n",
    "        if letter * 2 in word:\n",
    "            exists = True\n",
    "            break\n",
    "    if not exists:\n",
    "        print('There are no double words with this letter in the wordlist: ' + letter)"
   ]
  },
  {
   "cell_type": "markdown",
   "metadata": {},
   "source": [
    "#### Are there any words that contain all vowels?"
   ]
  },
  {
   "cell_type": "code",
   "execution_count": 4,
   "metadata": {
    "scrolled": true
   },
   "outputs": [],
   "source": [
    "#a global str of vowels\n",
    "vowels = 'aeiou'\n",
    "\n",
    "def has_all_vowels(word):\n",
    "    '''\n",
    "    find all vowels in a word\n",
    "    '''\n",
    "    for vowel in vowels:\n",
    "        if vowel not in word:\n",
    "            return False\n",
    "    return True"
   ]
  },
  {
   "cell_type": "code",
   "execution_count": 5,
   "metadata": {},
   "outputs": [
    {
     "name": "stdout",
     "output_type": "stream",
     "text": [
      "education\n"
     ]
    }
   ],
   "source": [
    "for word in wordlist:\n",
    "    if has_all_vowels(word):\n",
    "        print(word)"
   ]
  },
  {
   "cell_type": "markdown",
   "metadata": {},
   "source": [
    "#### Find the palindromes in the wordlist"
   ]
  },
  {
   "cell_type": "code",
   "execution_count": 6,
   "metadata": {},
   "outputs": [
    {
     "name": "stdout",
     "output_type": "stream",
     "text": [
      "True\n",
      "range(0, 5)\n",
      "0\n",
      "1\n",
      "2\n",
      "3\n",
      "4\n"
     ]
    }
   ],
   "source": [
    "w = 'radar'\n",
    "print(w[1] == w[-2])\n",
    "print(range(len(w)))\n",
    "for index in range(len(w)):\n",
    "    print(index)"
   ]
  },
  {
   "cell_type": "code",
   "execution_count": 7,
   "metadata": {},
   "outputs": [
    {
     "name": "stdout",
     "output_type": "stream",
     "text": [
      "True\n"
     ]
    }
   ],
   "source": [
    "is_palindrome = True\n",
    "for index in range(len(w)): #range and len produces an iterable list\n",
    "    if w[index] != w[-(index + 1)]:\n",
    "        is_palindrome = False\n",
    "print(is_palindrome)"
   ]
  },
  {
   "cell_type": "code",
   "execution_count": 8,
   "metadata": {},
   "outputs": [
    {
     "name": "stdout",
     "output_type": "stream",
     "text": [
      "level\n"
     ]
    }
   ],
   "source": [
    "# with the wordlist find the longest\n",
    "\n",
    "longest = ''\n",
    "\n",
    "for word in wordlist:\n",
    "    is_palindrome = True\n",
    "    for index in range(len(word)):\n",
    "        if word[index] != word[-(index + 1)]:\n",
    "            is_palindrome = False\n",
    "    if is_palindrome and len(word) > len(longest):\n",
    "        longest = word\n",
    "print(longest)\n",
    "\n",
    "#in Jessicas example rotavator is the longest palindrome in the English language"
   ]
  },
  {
   "cell_type": "markdown",
   "metadata": {},
   "source": [
    "Is there a simplier way to do this? (rather than iterating over every letter)"
   ]
  },
  {
   "cell_type": "code",
   "execution_count": 9,
   "metadata": {},
   "outputs": [
    {
     "name": "stdout",
     "output_type": "stream",
     "text": [
      "['r', 'a', 'd', 'a', 'r']\n"
     ]
    },
    {
     "data": {
      "text/plain": [
       "True"
      ]
     },
     "execution_count": 9,
     "metadata": {},
     "output_type": "execute_result"
    }
   ],
   "source": [
    "w = 'radar'\n",
    "b = list(reversed(w))\n",
    "print(b)\n",
    "list(w) == b"
   ]
  },
  {
   "cell_type": "code",
   "execution_count": 10,
   "metadata": {},
   "outputs": [
    {
     "name": "stdout",
     "output_type": "stream",
     "text": [
      "level\n"
     ]
    }
   ],
   "source": [
    "longest = ''\n",
    "\n",
    "for word in wordlist:\n",
    "    if list(word) == list(reversed(word)) and len(word) > len(longest):\n",
    "        longest = word\n",
    "print(longest)"
   ]
  },
  {
   "cell_type": "markdown",
   "metadata": {},
   "source": [
    "Is there an even simipler idiomatic way of doing this?"
   ]
  },
  {
   "cell_type": "code",
   "execution_count": 11,
   "metadata": {},
   "outputs": [
    {
     "name": "stdout",
     "output_type": "stream",
     "text": [
      "rotavator\n"
     ]
    },
    {
     "data": {
      "text/plain": [
       "True"
      ]
     },
     "execution_count": 11,
     "metadata": {},
     "output_type": "execute_result"
    }
   ],
   "source": [
    "#use strides from slicing syntax\n",
    "w = 'rotavator'\n",
    "print(w[::-1])\n",
    "w == w[::-1]"
   ]
  },
  {
   "cell_type": "code",
   "execution_count": 12,
   "metadata": {},
   "outputs": [
    {
     "name": "stdout",
     "output_type": "stream",
     "text": [
      "level\n"
     ]
    }
   ],
   "source": [
    "longest = ''\n",
    "\n",
    "for word in wordlist:\n",
    "    if word == word[::-1] and len(word) > len(longest):\n",
    "        longest = word\n",
    "print(longest)"
   ]
  },
  {
   "cell_type": "markdown",
   "metadata": {},
   "source": [
    "### Part 2: Data Structures"
   ]
  },
  {
   "cell_type": "code",
   "execution_count": 13,
   "metadata": {},
   "outputs": [],
   "source": [
    "my_list = ['cherries', 'bananas', 'apples']"
   ]
  },
  {
   "cell_type": "code",
   "execution_count": 14,
   "metadata": {},
   "outputs": [],
   "source": [
    "my_dict = {'Rachel': 'cherries', 'Andy': 'bananas', 'Tom': 'apples'}\n",
    "#like in a real dictionary you cannot have repeat keys"
   ]
  },
  {
   "cell_type": "code",
   "execution_count": 15,
   "metadata": {},
   "outputs": [],
   "source": [
    "sonnets = [elt.strip() for elt in open('sonnets.txt', 'r').readlines()]\n",
    "wordlist = [elt.strip() for elt in open('wordlist.txt', 'r').readlines()]"
   ]
  },
  {
   "cell_type": "code",
   "execution_count": 16,
   "metadata": {},
   "outputs": [
    {
     "name": "stdout",
     "output_type": "stream",
     "text": [
      "total all words in the sonnets: 2357\n",
      "total uncommon words in the sonnets: 2355\n",
      "total time: 0.0385\n"
     ]
    }
   ],
   "source": [
    "counter = 0\n",
    "\n",
    "start = time.time()\n",
    "\n",
    "for word in sonnets:\n",
    "    counter += 1\n",
    "print('total all words in the sonnets: {}'.format(counter))\n",
    "\n",
    "counter = 0\n",
    "\n",
    "for word in sonnets:\n",
    "    if word not in wordlist:\n",
    "        #print(word)\n",
    "        counter += 1\n",
    "        \n",
    "print('total uncommon words in the sonnets: {}'.format(counter))\n",
    "\n",
    "stop = time.time()\n",
    "\n",
    "print('total time: {}'.format(round(stop-start, 4)))"
   ]
  },
  {
   "cell_type": "markdown",
   "metadata": {},
   "source": [
    "To iterate faster through data"
   ]
  },
  {
   "cell_type": "code",
   "execution_count": 17,
   "metadata": {},
   "outputs": [],
   "source": [
    "#create a dictionary for the data using a throw away value 1\n",
    "worddict = dict((elt, 1) for elt in wordlist)"
   ]
  },
  {
   "cell_type": "code",
   "execution_count": 18,
   "metadata": {},
   "outputs": [
    {
     "name": "stdout",
     "output_type": "stream",
     "text": [
      "total all words in the sonnets: 2357\n",
      "total uncommon words in the sonnets: 2355\n",
      "total time: 0.0012\n"
     ]
    }
   ],
   "source": [
    "counter = 0\n",
    "\n",
    "start = time.time()\n",
    "\n",
    "for word in sonnets:\n",
    "    counter += 1\n",
    "print('total all words in the sonnets: {}'.format(counter))\n",
    "\n",
    "counter = 0\n",
    "\n",
    "for word in sonnets:\n",
    "    if word not in worddict:\n",
    "        #print(word)\n",
    "        counter += 1\n",
    "        \n",
    "print('total uncommon words in the sonnets: {}'.format(counter))\n",
    "\n",
    "stop = time.time()\n",
    "\n",
    "print('total time: {}'.format(round(stop-start, 4)))"
   ]
  },
  {
   "cell_type": "markdown",
   "metadata": {},
   "source": [
    "The amount of work we do is proportional to the length of the list.\n",
    "\n",
    "The dictionary will take the word from the sonnets and does a look-up in the dictionary and the time taken is independent (constant) to the length of the dictionary, rather than traverse across a full list.\n",
    "\n",
    "Lists are really useful when wanting to sort or put order to the data."
   ]
  },
  {
   "cell_type": "markdown",
   "metadata": {},
   "source": [
    "#### Using Sets as a containers"
   ]
  },
  {
   "cell_type": "code",
   "execution_count": 19,
   "metadata": {},
   "outputs": [
    {
     "data": {
      "text/plain": [
       "{'a', 'b', 'c'}"
      ]
     },
     "execution_count": 19,
     "metadata": {},
     "output_type": "execute_result"
    }
   ],
   "source": [
    "my_set = set()\n",
    "my_set.add('a')\n",
    "my_set.add('b')\n",
    "my_set.add('c')\n",
    "my_set"
   ]
  },
  {
   "cell_type": "code",
   "execution_count": 20,
   "metadata": {},
   "outputs": [
    {
     "data": {
      "text/plain": [
       "{'a', 'b', 'c', 'd'}"
      ]
     },
     "execution_count": 20,
     "metadata": {},
     "output_type": "execute_result"
    }
   ],
   "source": [
    "my_set.add('b')\n",
    "my_set.add('d')\n",
    "my_set"
   ]
  },
  {
   "cell_type": "code",
   "execution_count": 21,
   "metadata": {},
   "outputs": [
    {
     "name": "stdout",
     "output_type": "stream",
     "text": [
      "total all words in the sonnets: 2357\n",
      "total uncommon words in the sonnets: 2355\n",
      "total time: 0.002\n"
     ]
    }
   ],
   "source": [
    "wordset = set(wordlist)\n",
    "\n",
    "counter = 0\n",
    "\n",
    "start = time.time()\n",
    "\n",
    "for word in sonnets:\n",
    "    counter += 1\n",
    "print('total all words in the sonnets: {}'.format(counter))\n",
    "\n",
    "counter = 0\n",
    "\n",
    "for word in sonnets:\n",
    "    if word not in wordset:\n",
    "        #print(word)\n",
    "        counter += 1\n",
    "        \n",
    "print('total uncommon words in the sonnets: {}'.format(counter))\n",
    "\n",
    "stop = time.time()\n",
    "\n",
    "print('total time: {}'.format(round(stop-start, 4)))"
   ]
  },
  {
   "cell_type": "markdown",
   "metadata": {},
   "source": [
    "#### List Comprehensions\n",
    "A fast idiomatic way to take a list and produce a new list"
   ]
  },
  {
   "cell_type": "code",
   "execution_count": 22,
   "metadata": {},
   "outputs": [
    {
     "data": {
      "text/plain": [
       "[0, 1, 4, 9, 16, 25, 36, 49, 64, 81]"
      ]
     },
     "execution_count": 22,
     "metadata": {},
     "output_type": "execute_result"
    }
   ],
   "source": [
    "#square every element in a list\n",
    "list_test = range(0, 10)\n",
    "[elt*elt for elt in list_test]"
   ]
  },
  {
   "cell_type": "code",
   "execution_count": 23,
   "metadata": {},
   "outputs": [
    {
     "data": {
      "text/plain": [
       "['phone', 'physical']"
      ]
     },
     "execution_count": 23,
     "metadata": {},
     "output_type": "execute_result"
    }
   ],
   "source": [
    "[elt for elt in wordlist if 'ph' in elt]"
   ]
  },
  {
   "cell_type": "code",
   "execution_count": 24,
   "metadata": {},
   "outputs": [
    {
     "data": {
      "text/plain": [
       "['eye', 'level']"
      ]
     },
     "execution_count": 24,
     "metadata": {},
     "output_type": "execute_result"
    }
   ],
   "source": [
    "[word for word in wordlist if word == word[::-1] and len(word) > 1]"
   ]
  },
  {
   "cell_type": "markdown",
   "metadata": {},
   "source": [
    "#### Take the sonnets.txt file and produce a new list of all of the words"
   ]
  },
  {
   "cell_type": "code",
   "execution_count": 25,
   "metadata": {},
   "outputs": [],
   "source": [
    "sonnets = open('sonnets.txt').readlines()\n",
    "word_set = set([elt.strip().upper() for elt in open('wordlist.txt')])\n",
    "sonnet_words = set()"
   ]
  },
  {
   "cell_type": "code",
   "execution_count": 26,
   "metadata": {},
   "outputs": [],
   "source": [
    "def strip_punctuation(word):\n",
    "    #remove surrounding punctua tion. If there is an apostrophe in the \n",
    "    #middle of the word, skip it\n",
    "    word.replace('-', ' ')\n",
    "    apostrophe_i = word.find(\"'\")\n",
    "    if apostrophe_i != -1:\n",
    "        return None\n",
    "    return word.strip(string.punctuation)\n",
    "\n",
    "for line in sonnets:\n",
    "    #split apart hyhenated words\n",
    "    line_words = line.replace('-', ' ').strip().split()\n",
    "    \n",
    "    #its an empty line or a sonnet number, skip it\n",
    "    if len(line_words) <= 1:\n",
    "        continue\n",
    "        \n",
    "    for word in line_words:\n",
    "        stripped = strip_punctuation(word)\n",
    "        if stripped and len(stripped) > 1:\n",
    "            sonnet_words.add(stripped.upper())\n",
    "\n",
    "sonnet_words = list(sonnet_words)\n",
    "sonnet_words.sort()"
   ]
  },
  {
   "cell_type": "markdown",
   "metadata": {},
   "source": [
    "Save new sonnet words to file"
   ]
  },
  {
   "cell_type": "code",
   "execution_count": 27,
   "metadata": {},
   "outputs": [],
   "source": [
    "f = open('sonnets_words.txt', 'w')\n",
    "for word in sonnet_words:\n",
    "    f.write(word + '\\n')\n",
    "f.close()"
   ]
  },
  {
   "cell_type": "markdown",
   "metadata": {},
   "source": [
    "### Part 3: NASA picture of the day web scrape\n",
    "#### overall game plan:\n",
    "\n",
    "from the online archive follow each link\n",
    "\n",
    "find the image in that linked page\n",
    "\n",
    "down load the image"
   ]
  },
  {
   "cell_type": "code",
   "execution_count": 35,
   "metadata": {},
   "outputs": [],
   "source": [
    "#download the index page\n",
    "url = 'https://apod.nasa.gov/apod/archivepix.html'\n",
    "content = urllib.request.urlopen(url).read()\n",
    "download_directory = 'apod_pics'"
   ]
  },
  {
   "cell_type": "code",
   "execution_count": 29,
   "metadata": {},
   "outputs": [],
   "source": [
    "#The <a> tag defines a hyperlink, which is used to link from one page to another.\n",
    "#The most important attribute of the <a> element is the href attribute, which indicates the link's destination.\n",
    "a_tags = BeautifulSoup(content, 'lxml').findAll('a')"
   ]
  },
  {
   "cell_type": "code",
   "execution_count": 30,
   "metadata": {},
   "outputs": [
    {
     "name": "stdout",
     "output_type": "stream",
     "text": [
      "<class 'bs4.element.Tag'>\n"
     ]
    },
    {
     "data": {
      "text/plain": [
       "<a href=\"lib/aptree.html\">Index</a>"
      ]
     },
     "execution_count": 30,
     "metadata": {},
     "output_type": "execute_result"
    }
   ],
   "source": [
    "#exploring the data, necessary when looking at new data\n",
    "print(type(a_tags[0]))\n",
    "tags = a_tags[0] #this is like a dictionary, href as the key\n",
    "tags"
   ]
  },
  {
   "cell_type": "code",
   "execution_count": 31,
   "metadata": {},
   "outputs": [
    {
     "data": {
      "text/plain": [
       "'lib/aptree.html'"
      ]
     },
     "execution_count": 31,
     "metadata": {},
     "output_type": "execute_result"
    }
   ],
   "source": [
    "#show the link\n",
    "tags['href'] \n",
    "#we can then parse out all the links"
   ]
  },
  {
   "cell_type": "code",
   "execution_count": 36,
   "metadata": {},
   "outputs": [
    {
     "name": "stdout",
     "output_type": "stream",
     "text": [
      "Following link:  <a href=\"lib/aptree.html\">Index</a>\n",
      "Downloading image:  https://apod.nasa.gov/apod/apod.gif\n",
      "Downloading image:  https://apod.nasa.gov/apod/calendar/S_960823.jpg\n",
      "Downloading image:  https://apod.nasa.gov/apod/calendar/S_960522.jpg\n",
      "Downloading image:  https://apod.nasa.gov/apod/calendar/S_971029.jpg\n",
      "Downloading image:  https://apod.nasa.gov/apod/calendar/S_960501.jpg\n",
      "Downloading image:  https://apod.nasa.gov/apod/calendar/S_960210.jpg\n",
      "Downloading image:  https://apod.nasa.gov/apod/calendar/S_971011.jpg\n",
      "Downloading image:  https://apod.nasa.gov/apod/calendar/S_970809.jpg\n",
      "Following link:  <a href=\"http://antwrp.gsfc.nasa.gov/cgi-bin/apod/apod_search\">Search</a>\n",
      "Downloading image:  https://apod.nasa.gov/apod/apod.gif\n",
      "Following link:  <a href=\"astropix.html\">Today's Picture</a>\n",
      "Downloading image:  https://apod.nasa.gov/apod/image/1809/E0102NS_HubbleChandra_960.jpg\n",
      "Following link:  <a href=\"ap180930.html\">The Lonely Neutron Star in Supernova E0102 72.3</a>\n",
      "Downloading image:  https://apod.nasa.gov/apod/image/1809/E0102NS_HubbleChandra_960.jpg\n",
      "Following link:  <a href=\"ap180929.html\">55 Nights with Saturn</a>\n",
      "Downloading image:  https://apod.nasa.gov/apod/image/1809/Saturn2018hd1067.jpg\n",
      "Following link:  <a href=\"ap180928.html\">The Light, the Dark, and the Dusty</a>\n",
      "Downloading image:  https://apod.nasa.gov/apod/image/1809/Sh2-155CaveNebula_Liampos1024.jpg\n",
      "Following link:  <a href=\"ap180927.html\">M33: Triangulum Galaxy</a>\n",
      "Downloading image:  https://apod.nasa.gov/apod/image/1809/M33_15x480s_CDK14_D810A_ps13-ap1024.jpg\n",
      "Following link:  <a href=\"ap180926.html\">The Suns Spectrum with its Missing Colors</a>\n",
      "Downloading image:  https://apod.nasa.gov/apod/image/1809/sunspectrum_noao_960.jpg\n",
      "Following link:  <a href=\"ap180925.html\">Highlights of the North Autumn Sky</a>\n",
      "Downloading image:  https://apod.nasa.gov/apod/image/1809/AutumnSky_u2go_960.jpg\n",
      "Following link:  <a href=\"ap180924.html\">Rover 1A Hops on Asteroid Ryugu</a>\n",
      "Downloading image:  https://apod.nasa.gov/apod/image/1809/Ryugu01_Rover1aHayabusa2_960.jpg\n",
      "Following link:  <a href=\"ap180923.html\">Equinox: Analemma over the Callanish Stones</a>\n",
      "Downloading image:  https://apod.nasa.gov/apod/image/1809/CallanishAnalemma_Petricca_960.jpg\n",
      "Following link:  <a href=\"ap180922.html\">Window Seat over Hudson Bay</a>\n",
      "Downloading image:  https://apod.nasa.gov/apod/image/1809/CurtainsofLightRohner1024.jpg\n",
      "Following link:  <a href=\"ap180921.html\">Irregular Galaxy NGC 55</a>\n",
      "Downloading image:  https://apod.nasa.gov/apod/image/1809/NGC55_HaLRGBpugh1024.jpg\n",
      "Following link:  <a href=\"ap180920.html\">Stars and Dust in Corona Australis</a>\n",
      "Downloading image:  https://apod.nasa.gov/apod/image/1809/NGC6727-drudis1024.jpg\n"
     ]
    },
    {
     "ename": "KeyboardInterrupt",
     "evalue": "",
     "output_type": "error",
     "traceback": [
      "\u001b[0;31m---------------------------------------------------------------------------\u001b[0m",
      "\u001b[0;31mKeyboardInterrupt\u001b[0m                         Traceback (most recent call last)",
      "\u001b[0;32m<ipython-input-36-791d33709572>\u001b[0m in \u001b[0;36m<module>\u001b[0;34m()\u001b[0m\n\u001b[1;32m      7\u001b[0m         \u001b[0mprint\u001b[0m\u001b[0;34m(\u001b[0m\u001b[0;34m'Downloading image: '\u001b[0m\u001b[0;34m,\u001b[0m \u001b[0mimg_href\u001b[0m\u001b[0;34m)\u001b[0m\u001b[0;34m\u001b[0m\u001b[0m\n\u001b[1;32m      8\u001b[0m         \u001b[0mimg_name\u001b[0m \u001b[0;34m=\u001b[0m \u001b[0mimg_href\u001b[0m\u001b[0;34m.\u001b[0m\u001b[0msplit\u001b[0m\u001b[0;34m(\u001b[0m\u001b[0;34m'/'\u001b[0m\u001b[0;34m)\u001b[0m\u001b[0;34m[\u001b[0m\u001b[0;34m-\u001b[0m\u001b[0;36m1\u001b[0m\u001b[0;34m]\u001b[0m\u001b[0;34m\u001b[0m\u001b[0m\n\u001b[0;32m----> 9\u001b[0;31m         \u001b[0murllib\u001b[0m\u001b[0;34m.\u001b[0m\u001b[0mrequest\u001b[0m\u001b[0;34m.\u001b[0m\u001b[0murlretrieve\u001b[0m\u001b[0;34m(\u001b[0m\u001b[0mimg_href\u001b[0m\u001b[0;34m,\u001b[0m \u001b[0mos\u001b[0m\u001b[0;34m.\u001b[0m\u001b[0mpath\u001b[0m\u001b[0;34m.\u001b[0m\u001b[0mjoin\u001b[0m\u001b[0;34m(\u001b[0m\u001b[0mdownload_directory\u001b[0m\u001b[0;34m,\u001b[0m \u001b[0mimg_name\u001b[0m\u001b[0;34m)\u001b[0m\u001b[0;34m)\u001b[0m\u001b[0;34m\u001b[0m\u001b[0m\n\u001b[0m",
      "\u001b[0;32m~/miniconda3/envs/pythonista/lib/python3.6/urllib/request.py\u001b[0m in \u001b[0;36murlretrieve\u001b[0;34m(url, filename, reporthook, data)\u001b[0m\n\u001b[1;32m    275\u001b[0m \u001b[0;34m\u001b[0m\u001b[0m\n\u001b[1;32m    276\u001b[0m             \u001b[0;32mwhile\u001b[0m \u001b[0;32mTrue\u001b[0m\u001b[0;34m:\u001b[0m\u001b[0;34m\u001b[0m\u001b[0m\n\u001b[0;32m--> 277\u001b[0;31m                 \u001b[0mblock\u001b[0m \u001b[0;34m=\u001b[0m \u001b[0mfp\u001b[0m\u001b[0;34m.\u001b[0m\u001b[0mread\u001b[0m\u001b[0;34m(\u001b[0m\u001b[0mbs\u001b[0m\u001b[0;34m)\u001b[0m\u001b[0;34m\u001b[0m\u001b[0m\n\u001b[0m\u001b[1;32m    278\u001b[0m                 \u001b[0;32mif\u001b[0m \u001b[0;32mnot\u001b[0m \u001b[0mblock\u001b[0m\u001b[0;34m:\u001b[0m\u001b[0;34m\u001b[0m\u001b[0m\n\u001b[1;32m    279\u001b[0m                     \u001b[0;32mbreak\u001b[0m\u001b[0;34m\u001b[0m\u001b[0m\n",
      "\u001b[0;32m~/miniconda3/envs/pythonista/lib/python3.6/http/client.py\u001b[0m in \u001b[0;36mread\u001b[0;34m(self, amt)\u001b[0m\n\u001b[1;32m    447\u001b[0m             \u001b[0;31m# Amount is given, implement using readinto\u001b[0m\u001b[0;34m\u001b[0m\u001b[0;34m\u001b[0m\u001b[0m\n\u001b[1;32m    448\u001b[0m             \u001b[0mb\u001b[0m \u001b[0;34m=\u001b[0m \u001b[0mbytearray\u001b[0m\u001b[0;34m(\u001b[0m\u001b[0mamt\u001b[0m\u001b[0;34m)\u001b[0m\u001b[0;34m\u001b[0m\u001b[0m\n\u001b[0;32m--> 449\u001b[0;31m             \u001b[0mn\u001b[0m \u001b[0;34m=\u001b[0m \u001b[0mself\u001b[0m\u001b[0;34m.\u001b[0m\u001b[0mreadinto\u001b[0m\u001b[0;34m(\u001b[0m\u001b[0mb\u001b[0m\u001b[0;34m)\u001b[0m\u001b[0;34m\u001b[0m\u001b[0m\n\u001b[0m\u001b[1;32m    450\u001b[0m             \u001b[0;32mreturn\u001b[0m \u001b[0mmemoryview\u001b[0m\u001b[0;34m(\u001b[0m\u001b[0mb\u001b[0m\u001b[0;34m)\u001b[0m\u001b[0;34m[\u001b[0m\u001b[0;34m:\u001b[0m\u001b[0mn\u001b[0m\u001b[0;34m]\u001b[0m\u001b[0;34m.\u001b[0m\u001b[0mtobytes\u001b[0m\u001b[0;34m(\u001b[0m\u001b[0;34m)\u001b[0m\u001b[0;34m\u001b[0m\u001b[0m\n\u001b[1;32m    451\u001b[0m         \u001b[0;32melse\u001b[0m\u001b[0;34m:\u001b[0m\u001b[0;34m\u001b[0m\u001b[0m\n",
      "\u001b[0;32m~/miniconda3/envs/pythonista/lib/python3.6/http/client.py\u001b[0m in \u001b[0;36mreadinto\u001b[0;34m(self, b)\u001b[0m\n\u001b[1;32m    491\u001b[0m         \u001b[0;31m# connection, and the user is reading more bytes than will be provided\u001b[0m\u001b[0;34m\u001b[0m\u001b[0;34m\u001b[0m\u001b[0m\n\u001b[1;32m    492\u001b[0m         \u001b[0;31m# (for example, reading in 1k chunks)\u001b[0m\u001b[0;34m\u001b[0m\u001b[0;34m\u001b[0m\u001b[0m\n\u001b[0;32m--> 493\u001b[0;31m         \u001b[0mn\u001b[0m \u001b[0;34m=\u001b[0m \u001b[0mself\u001b[0m\u001b[0;34m.\u001b[0m\u001b[0mfp\u001b[0m\u001b[0;34m.\u001b[0m\u001b[0mreadinto\u001b[0m\u001b[0;34m(\u001b[0m\u001b[0mb\u001b[0m\u001b[0;34m)\u001b[0m\u001b[0;34m\u001b[0m\u001b[0m\n\u001b[0m\u001b[1;32m    494\u001b[0m         \u001b[0;32mif\u001b[0m \u001b[0;32mnot\u001b[0m \u001b[0mn\u001b[0m \u001b[0;32mand\u001b[0m \u001b[0mb\u001b[0m\u001b[0;34m:\u001b[0m\u001b[0;34m\u001b[0m\u001b[0m\n\u001b[1;32m    495\u001b[0m             \u001b[0;31m# Ideally, we would raise IncompleteRead if the content-length\u001b[0m\u001b[0;34m\u001b[0m\u001b[0;34m\u001b[0m\u001b[0m\n",
      "\u001b[0;32m~/miniconda3/envs/pythonista/lib/python3.6/socket.py\u001b[0m in \u001b[0;36mreadinto\u001b[0;34m(self, b)\u001b[0m\n\u001b[1;32m    584\u001b[0m         \u001b[0;32mwhile\u001b[0m \u001b[0;32mTrue\u001b[0m\u001b[0;34m:\u001b[0m\u001b[0;34m\u001b[0m\u001b[0m\n\u001b[1;32m    585\u001b[0m             \u001b[0;32mtry\u001b[0m\u001b[0;34m:\u001b[0m\u001b[0;34m\u001b[0m\u001b[0m\n\u001b[0;32m--> 586\u001b[0;31m                 \u001b[0;32mreturn\u001b[0m \u001b[0mself\u001b[0m\u001b[0;34m.\u001b[0m\u001b[0m_sock\u001b[0m\u001b[0;34m.\u001b[0m\u001b[0mrecv_into\u001b[0m\u001b[0;34m(\u001b[0m\u001b[0mb\u001b[0m\u001b[0;34m)\u001b[0m\u001b[0;34m\u001b[0m\u001b[0m\n\u001b[0m\u001b[1;32m    587\u001b[0m             \u001b[0;32mexcept\u001b[0m \u001b[0mtimeout\u001b[0m\u001b[0;34m:\u001b[0m\u001b[0;34m\u001b[0m\u001b[0m\n\u001b[1;32m    588\u001b[0m                 \u001b[0mself\u001b[0m\u001b[0;34m.\u001b[0m\u001b[0m_timeout_occurred\u001b[0m \u001b[0;34m=\u001b[0m \u001b[0;32mTrue\u001b[0m\u001b[0;34m\u001b[0m\u001b[0m\n",
      "\u001b[0;32m~/miniconda3/envs/pythonista/lib/python3.6/ssl.py\u001b[0m in \u001b[0;36mrecv_into\u001b[0;34m(self, buffer, nbytes, flags)\u001b[0m\n\u001b[1;32m   1007\u001b[0m                   \u001b[0;34m\"non-zero flags not allowed in calls to recv_into() on %s\"\u001b[0m \u001b[0;34m%\u001b[0m\u001b[0;34m\u001b[0m\u001b[0m\n\u001b[1;32m   1008\u001b[0m                   self.__class__)\n\u001b[0;32m-> 1009\u001b[0;31m             \u001b[0;32mreturn\u001b[0m \u001b[0mself\u001b[0m\u001b[0;34m.\u001b[0m\u001b[0mread\u001b[0m\u001b[0;34m(\u001b[0m\u001b[0mnbytes\u001b[0m\u001b[0;34m,\u001b[0m \u001b[0mbuffer\u001b[0m\u001b[0;34m)\u001b[0m\u001b[0;34m\u001b[0m\u001b[0m\n\u001b[0m\u001b[1;32m   1010\u001b[0m         \u001b[0;32melse\u001b[0m\u001b[0;34m:\u001b[0m\u001b[0;34m\u001b[0m\u001b[0m\n\u001b[1;32m   1011\u001b[0m             \u001b[0;32mreturn\u001b[0m \u001b[0msocket\u001b[0m\u001b[0;34m.\u001b[0m\u001b[0mrecv_into\u001b[0m\u001b[0;34m(\u001b[0m\u001b[0mself\u001b[0m\u001b[0;34m,\u001b[0m \u001b[0mbuffer\u001b[0m\u001b[0;34m,\u001b[0m \u001b[0mnbytes\u001b[0m\u001b[0;34m,\u001b[0m \u001b[0mflags\u001b[0m\u001b[0;34m)\u001b[0m\u001b[0;34m\u001b[0m\u001b[0m\n",
      "\u001b[0;32m~/miniconda3/envs/pythonista/lib/python3.6/ssl.py\u001b[0m in \u001b[0;36mread\u001b[0;34m(self, len, buffer)\u001b[0m\n\u001b[1;32m    869\u001b[0m             \u001b[0;32mraise\u001b[0m \u001b[0mValueError\u001b[0m\u001b[0;34m(\u001b[0m\u001b[0;34m\"Read on closed or unwrapped SSL socket.\"\u001b[0m\u001b[0;34m)\u001b[0m\u001b[0;34m\u001b[0m\u001b[0m\n\u001b[1;32m    870\u001b[0m         \u001b[0;32mtry\u001b[0m\u001b[0;34m:\u001b[0m\u001b[0;34m\u001b[0m\u001b[0m\n\u001b[0;32m--> 871\u001b[0;31m             \u001b[0;32mreturn\u001b[0m \u001b[0mself\u001b[0m\u001b[0;34m.\u001b[0m\u001b[0m_sslobj\u001b[0m\u001b[0;34m.\u001b[0m\u001b[0mread\u001b[0m\u001b[0;34m(\u001b[0m\u001b[0mlen\u001b[0m\u001b[0;34m,\u001b[0m \u001b[0mbuffer\u001b[0m\u001b[0;34m)\u001b[0m\u001b[0;34m\u001b[0m\u001b[0m\n\u001b[0m\u001b[1;32m    872\u001b[0m         \u001b[0;32mexcept\u001b[0m \u001b[0mSSLError\u001b[0m \u001b[0;32mas\u001b[0m \u001b[0mx\u001b[0m\u001b[0;34m:\u001b[0m\u001b[0;34m\u001b[0m\u001b[0m\n\u001b[1;32m    873\u001b[0m             \u001b[0;32mif\u001b[0m \u001b[0mx\u001b[0m\u001b[0;34m.\u001b[0m\u001b[0margs\u001b[0m\u001b[0;34m[\u001b[0m\u001b[0;36m0\u001b[0m\u001b[0;34m]\u001b[0m \u001b[0;34m==\u001b[0m \u001b[0mSSL_ERROR_EOF\u001b[0m \u001b[0;32mand\u001b[0m \u001b[0mself\u001b[0m\u001b[0;34m.\u001b[0m\u001b[0msuppress_ragged_eofs\u001b[0m\u001b[0;34m:\u001b[0m\u001b[0;34m\u001b[0m\u001b[0m\n",
      "\u001b[0;32m~/miniconda3/envs/pythonista/lib/python3.6/ssl.py\u001b[0m in \u001b[0;36mread\u001b[0;34m(self, len, buffer)\u001b[0m\n\u001b[1;32m    629\u001b[0m         \"\"\"\n\u001b[1;32m    630\u001b[0m         \u001b[0;32mif\u001b[0m \u001b[0mbuffer\u001b[0m \u001b[0;32mis\u001b[0m \u001b[0;32mnot\u001b[0m \u001b[0;32mNone\u001b[0m\u001b[0;34m:\u001b[0m\u001b[0;34m\u001b[0m\u001b[0m\n\u001b[0;32m--> 631\u001b[0;31m             \u001b[0mv\u001b[0m \u001b[0;34m=\u001b[0m \u001b[0mself\u001b[0m\u001b[0;34m.\u001b[0m\u001b[0m_sslobj\u001b[0m\u001b[0;34m.\u001b[0m\u001b[0mread\u001b[0m\u001b[0;34m(\u001b[0m\u001b[0mlen\u001b[0m\u001b[0;34m,\u001b[0m \u001b[0mbuffer\u001b[0m\u001b[0;34m)\u001b[0m\u001b[0;34m\u001b[0m\u001b[0m\n\u001b[0m\u001b[1;32m    632\u001b[0m         \u001b[0;32melse\u001b[0m\u001b[0;34m:\u001b[0m\u001b[0;34m\u001b[0m\u001b[0m\n\u001b[1;32m    633\u001b[0m             \u001b[0mv\u001b[0m \u001b[0;34m=\u001b[0m \u001b[0mself\u001b[0m\u001b[0;34m.\u001b[0m\u001b[0m_sslobj\u001b[0m\u001b[0;34m.\u001b[0m\u001b[0mread\u001b[0m\u001b[0;34m(\u001b[0m\u001b[0mlen\u001b[0m\u001b[0;34m)\u001b[0m\u001b[0;34m\u001b[0m\u001b[0m\n",
      "\u001b[0;31mKeyboardInterrupt\u001b[0m: "
     ]
    }
   ],
   "source": [
    "for link in BeautifulSoup(content, 'lxml').findAll('a'):\n",
    "    print('Following link: ', link)\n",
    "    href = urljoin(url, link['href'])\n",
    "    content = urllib.request.urlopen(href).read()\n",
    "    for img in BeautifulSoup(content, 'lxml').findAll('img'):\n",
    "        img_href = urljoin(href, img['src'])\n",
    "        print('Downloading image: ', img_href)\n",
    "        img_name = img_href.split('/')[-1]\n",
    "        urllib.request.urlretrieve(img_href, os.path.join(download_directory, img_name))"
   ]
  },
  {
   "cell_type": "markdown",
   "metadata": {},
   "source": [
    "#### Generalise our webscraper"
   ]
  },
  {
   "cell_type": "code",
   "execution_count": 39,
   "metadata": {},
   "outputs": [
    {
     "name": "stdout",
     "output_type": "stream",
     "text": [
      "visiting:  http://web.mit.edu/jesstess/www/scraper_test/\n",
      "visiting:  http://web.mit.edu/jesstess/www/scraper_test/previous.html\n",
      "visiting:  http://web.mit.edu/jesstess/www/scraper_test/next.html\n",
      "Already visited:  http://web.mit.edu/jesstess/www/scraper_test/previous.html\n",
      "visiting:  http://web.mit.edu/jesstess/www/scraper_test/last.html\n",
      "Already visited:  http://web.mit.edu/jesstess/www/scraper_test/next.html\n",
      "Already visited:  http://web.mit.edu/jesstess/www/scraper_test/previous.html\n"
     ]
    }
   ],
   "source": [
    "#this url is a test site\n",
    "url = 'http://web.mit.edu/jesstess/www/scraper_test/'\n",
    "\n",
    "to_visit = set((url,))\n",
    "visited = set()\n",
    "\n",
    "while to_visit:\n",
    "    #pick a link to visit\n",
    "    \n",
    "    #visit the link\n",
    "    current_page = to_visit.pop()\n",
    "    print('visiting: ', current_page)\n",
    "    visited.add(current_page)\n",
    "    content = urllib.request.urlopen(current_page).read()\n",
    "    \n",
    "    #extract any new links from that page\n",
    "    for link in BeautifulSoup(content, 'lxml').findAll('a'):\n",
    "        absolute_link = urljoin(current_page, link['href'])\n",
    "        if absolute_link not in visited:\n",
    "            to_visit.add(absolute_link)\n",
    "        else:\n",
    "            print('Already visited: ', absolute_link)\n",
    "    \n",
    "    #download any images on the page\n",
    "    for img in BeautifulSoup(content, 'lxml').findAll('img'):\n",
    "        img_href = urljoin(current_page, img['src'])\n",
    "        print('Download image: ', img_href)\n",
    "        img_name = img_href.split('/')[-1]\n",
    "        urllib.request.urlretrieve(img_href, os.path.join(download_directory, img_name))\n",
    "    "
   ]
  },
  {
   "cell_type": "code",
   "execution_count": null,
   "metadata": {},
   "outputs": [],
   "source": []
  }
 ],
 "metadata": {
  "kernelspec": {
   "display_name": "Python 3",
   "language": "python",
   "name": "python3"
  },
  "language_info": {
   "codemirror_mode": {
    "name": "ipython",
    "version": 3
   },
   "file_extension": ".py",
   "mimetype": "text/x-python",
   "name": "python",
   "nbconvert_exporter": "python",
   "pygments_lexer": "ipython3",
   "version": "3.6.6"
  }
 },
 "nbformat": 4,
 "nbformat_minor": 2
}
